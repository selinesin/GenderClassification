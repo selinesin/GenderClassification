{
 "cells": [
  {
   "cell_type": "markdown",
   "metadata": {
    "papermill": {
     "duration": 0.034935,
     "end_time": "2021-03-04T14:25:20.341688",
     "exception": false,
     "start_time": "2021-03-04T14:25:20.306753",
     "status": "completed"
    },
    "tags": []
   },
   "source": [
    "# Cinsiyet Sınıflandırma Projesi \n",
    "\n",
    "### Bu projemde saç uzunluğu, burun ve alın genişliği gibi yüz yapısı özelliklerini içeren dataseti kullanarak cinsiyet tahmini yaptırdım.\n",
    "Projede kullandığım veri seti : gender_classification_v7.csv"
   ]
  },
  {
   "cell_type": "markdown",
   "metadata": {
    "papermill": {
     "duration": 0.033808,
     "end_time": "2021-03-04T14:25:21.511863",
     "exception": false,
     "start_time": "2021-03-04T14:25:21.478055",
     "status": "completed"
    },
    "tags": []
   },
   "source": [
    "\n",
    "<b>Bu veri seti 8 sütundan oluşmaktadır.</b>\n",
    "\n",
    "<b>long hair:</b> Boolean özellik. Eğer saç uzun ise 1, değilse 0.\\\n",
    "<b>forehead_width_cm:</b> Alın genişliğinin cm türünden ölçüsü.\\\n",
    "<b>forehead_height_cm:</b> Alın uzunluğunun cm türünden ölçüsü.\\\n",
    "<b>nose_wide:</b> Boolean özellik. Eğer burun geniş ise 1, ince ise 0.\\\n",
    "<b>nose_long:</b> Boolean özellik. Eğer burun uzun ise 1, kısa ise 0.\\\n",
    "<b>lips_thin:</b> Boolean özellik. Eğer dudak ince ise 1, kalın ise 0.\\\n",
    "<b>distance_nose_to_lip_long:</b> boolean özellik. Eğer dudak ile burun arasındaki mesafe kısa ise 0, uzun ise 1.\\\n",
    "<b>gender:</b> Erkek veya kadın\n",
    "\n",
    "<B>Not </b>- Cm türünden değerler popülasyondaki ilgili parametrelerin ortalama hesaplamasından sonra tanımlanacaktır.\n",
    "    \n",
    "    "
   ]
  },
  {
   "cell_type": "code",
   "execution_count": 2,
   "metadata": {
    "execution": {
     "iopub.execute_input": "2021-03-04T14:25:20.416085Z",
     "iopub.status.busy": "2021-03-04T14:25:20.415238Z",
     "iopub.status.idle": "2021-03-04T14:25:21.245838Z",
     "shell.execute_reply": "2021-03-04T14:25:21.245109Z"
    },
    "papermill": {
     "duration": 0.869266,
     "end_time": "2021-03-04T14:25:21.246037",
     "exception": false,
     "start_time": "2021-03-04T14:25:20.376771",
     "status": "completed"
    },
    "tags": []
   },
   "outputs": [],
   "source": [
    "#Gerekli kütüphanelerin yüklenmesi.\n",
    "import numpy as np \n",
    "import pandas as pd\n",
    "\n",
    "#Görselleştirme kütüphanelerinin yüklenmesi \n",
    "import seaborn as sns\n",
    "sns.set()\n",
    "import matplotlib.pyplot as plt \n",
    "from numpy import cov"
   ]
  },
  {
   "cell_type": "code",
   "execution_count": 3,
   "metadata": {
    "execution": {
     "iopub.execute_input": "2021-03-04T14:25:21.317994Z",
     "iopub.status.busy": "2021-03-04T14:25:21.317310Z",
     "iopub.status.idle": "2021-03-04T14:25:21.374856Z",
     "shell.execute_reply": "2021-03-04T14:25:21.375353Z"
    },
    "papermill": {
     "duration": 0.095858,
     "end_time": "2021-03-04T14:25:21.375565",
     "exception": false,
     "start_time": "2021-03-04T14:25:21.279707",
     "status": "completed"
    },
    "tags": []
   },
   "outputs": [
    {
     "data": {
      "text/html": [
       "<div>\n",
       "<style scoped>\n",
       "    .dataframe tbody tr th:only-of-type {\n",
       "        vertical-align: middle;\n",
       "    }\n",
       "\n",
       "    .dataframe tbody tr th {\n",
       "        vertical-align: top;\n",
       "    }\n",
       "\n",
       "    .dataframe thead th {\n",
       "        text-align: right;\n",
       "    }\n",
       "</style>\n",
       "<table border=\"1\" class=\"dataframe\">\n",
       "  <thead>\n",
       "    <tr style=\"text-align: right;\">\n",
       "      <th></th>\n",
       "      <th>long_hair</th>\n",
       "      <th>forehead_width_cm</th>\n",
       "      <th>forehead_height_cm</th>\n",
       "      <th>nose_wide</th>\n",
       "      <th>nose_long</th>\n",
       "      <th>lips_thin</th>\n",
       "      <th>distance_nose_to_lip_long</th>\n",
       "      <th>gender</th>\n",
       "    </tr>\n",
       "  </thead>\n",
       "  <tbody>\n",
       "    <tr>\n",
       "      <th>0</th>\n",
       "      <td>1</td>\n",
       "      <td>11.8</td>\n",
       "      <td>6.1</td>\n",
       "      <td>1</td>\n",
       "      <td>0</td>\n",
       "      <td>1</td>\n",
       "      <td>1</td>\n",
       "      <td>Male</td>\n",
       "    </tr>\n",
       "    <tr>\n",
       "      <th>1</th>\n",
       "      <td>0</td>\n",
       "      <td>14.0</td>\n",
       "      <td>5.4</td>\n",
       "      <td>0</td>\n",
       "      <td>0</td>\n",
       "      <td>1</td>\n",
       "      <td>0</td>\n",
       "      <td>Female</td>\n",
       "    </tr>\n",
       "    <tr>\n",
       "      <th>2</th>\n",
       "      <td>0</td>\n",
       "      <td>11.8</td>\n",
       "      <td>6.3</td>\n",
       "      <td>1</td>\n",
       "      <td>1</td>\n",
       "      <td>1</td>\n",
       "      <td>1</td>\n",
       "      <td>Male</td>\n",
       "    </tr>\n",
       "    <tr>\n",
       "      <th>3</th>\n",
       "      <td>0</td>\n",
       "      <td>14.4</td>\n",
       "      <td>6.1</td>\n",
       "      <td>0</td>\n",
       "      <td>1</td>\n",
       "      <td>1</td>\n",
       "      <td>1</td>\n",
       "      <td>Male</td>\n",
       "    </tr>\n",
       "    <tr>\n",
       "      <th>4</th>\n",
       "      <td>1</td>\n",
       "      <td>13.5</td>\n",
       "      <td>5.9</td>\n",
       "      <td>0</td>\n",
       "      <td>0</td>\n",
       "      <td>0</td>\n",
       "      <td>0</td>\n",
       "      <td>Female</td>\n",
       "    </tr>\n",
       "    <tr>\n",
       "      <th>...</th>\n",
       "      <td>...</td>\n",
       "      <td>...</td>\n",
       "      <td>...</td>\n",
       "      <td>...</td>\n",
       "      <td>...</td>\n",
       "      <td>...</td>\n",
       "      <td>...</td>\n",
       "      <td>...</td>\n",
       "    </tr>\n",
       "    <tr>\n",
       "      <th>4996</th>\n",
       "      <td>1</td>\n",
       "      <td>13.6</td>\n",
       "      <td>5.1</td>\n",
       "      <td>0</td>\n",
       "      <td>0</td>\n",
       "      <td>0</td>\n",
       "      <td>0</td>\n",
       "      <td>Female</td>\n",
       "    </tr>\n",
       "    <tr>\n",
       "      <th>4997</th>\n",
       "      <td>1</td>\n",
       "      <td>11.9</td>\n",
       "      <td>5.4</td>\n",
       "      <td>0</td>\n",
       "      <td>0</td>\n",
       "      <td>0</td>\n",
       "      <td>0</td>\n",
       "      <td>Female</td>\n",
       "    </tr>\n",
       "    <tr>\n",
       "      <th>4998</th>\n",
       "      <td>1</td>\n",
       "      <td>12.9</td>\n",
       "      <td>5.7</td>\n",
       "      <td>0</td>\n",
       "      <td>0</td>\n",
       "      <td>0</td>\n",
       "      <td>0</td>\n",
       "      <td>Female</td>\n",
       "    </tr>\n",
       "    <tr>\n",
       "      <th>4999</th>\n",
       "      <td>1</td>\n",
       "      <td>13.2</td>\n",
       "      <td>6.2</td>\n",
       "      <td>0</td>\n",
       "      <td>0</td>\n",
       "      <td>0</td>\n",
       "      <td>0</td>\n",
       "      <td>Female</td>\n",
       "    </tr>\n",
       "    <tr>\n",
       "      <th>5000</th>\n",
       "      <td>1</td>\n",
       "      <td>15.4</td>\n",
       "      <td>5.4</td>\n",
       "      <td>1</td>\n",
       "      <td>1</td>\n",
       "      <td>1</td>\n",
       "      <td>1</td>\n",
       "      <td>Male</td>\n",
       "    </tr>\n",
       "  </tbody>\n",
       "</table>\n",
       "<p>5001 rows × 8 columns</p>\n",
       "</div>"
      ],
      "text/plain": [
       "      long_hair  forehead_width_cm  forehead_height_cm  nose_wide  nose_long  \\\n",
       "0             1               11.8                 6.1          1          0   \n",
       "1             0               14.0                 5.4          0          0   \n",
       "2             0               11.8                 6.3          1          1   \n",
       "3             0               14.4                 6.1          0          1   \n",
       "4             1               13.5                 5.9          0          0   \n",
       "...         ...                ...                 ...        ...        ...   \n",
       "4996          1               13.6                 5.1          0          0   \n",
       "4997          1               11.9                 5.4          0          0   \n",
       "4998          1               12.9                 5.7          0          0   \n",
       "4999          1               13.2                 6.2          0          0   \n",
       "5000          1               15.4                 5.4          1          1   \n",
       "\n",
       "      lips_thin  distance_nose_to_lip_long  gender  \n",
       "0             1                          1    Male  \n",
       "1             1                          0  Female  \n",
       "2             1                          1    Male  \n",
       "3             1                          1    Male  \n",
       "4             0                          0  Female  \n",
       "...         ...                        ...     ...  \n",
       "4996          0                          0  Female  \n",
       "4997          0                          0  Female  \n",
       "4998          0                          0  Female  \n",
       "4999          0                          0  Female  \n",
       "5000          1                          1    Male  \n",
       "\n",
       "[5001 rows x 8 columns]"
      ]
     },
     "execution_count": 3,
     "metadata": {},
     "output_type": "execute_result"
    }
   ],
   "source": [
    "#Veri setinin yüklenmesi.\n",
    "person=pd.read_csv('gender_classification_v7.csv')\n",
    "person\n"
   ]
  },
  {
   "cell_type": "code",
   "execution_count": 4,
   "metadata": {
    "execution": {
     "iopub.execute_input": "2021-03-04T14:25:21.666836Z",
     "iopub.status.busy": "2021-03-04T14:25:21.666152Z",
     "iopub.status.idle": "2021-03-04T14:25:21.669900Z",
     "shell.execute_reply": "2021-03-04T14:25:21.670440Z"
    },
    "papermill": {
     "duration": 0.056641,
     "end_time": "2021-03-04T14:25:21.670607",
     "exception": false,
     "start_time": "2021-03-04T14:25:21.613966",
     "status": "completed"
    },
    "tags": []
   },
   "outputs": [
    {
     "name": "stdout",
     "output_type": "stream",
     "text": [
      "<class 'pandas.core.frame.DataFrame'>\n",
      "RangeIndex: 5001 entries, 0 to 5000\n",
      "Data columns (total 8 columns):\n",
      " #   Column                     Non-Null Count  Dtype  \n",
      "---  ------                     --------------  -----  \n",
      " 0   long_hair                  5001 non-null   int64  \n",
      " 1   forehead_width_cm          5001 non-null   float64\n",
      " 2   forehead_height_cm         5001 non-null   float64\n",
      " 3   nose_wide                  5001 non-null   int64  \n",
      " 4   nose_long                  5001 non-null   int64  \n",
      " 5   lips_thin                  5001 non-null   int64  \n",
      " 6   distance_nose_to_lip_long  5001 non-null   int64  \n",
      " 7   gender                     5001 non-null   object \n",
      "dtypes: float64(2), int64(5), object(1)\n",
      "memory usage: 312.7+ KB\n"
     ]
    }
   ],
   "source": [
    "#tablo hakkında bilgiler.\n",
    "person.info()"
   ]
  },
  {
   "cell_type": "markdown",
   "metadata": {
    "papermill": {
     "duration": 0.034181,
     "end_time": "2021-03-04T14:25:21.739419",
     "exception": false,
     "start_time": "2021-03-04T14:25:21.705238",
     "status": "completed"
    },
    "tags": []
   },
   "source": [
    "<br>\n",
    "\n",
    "<b> Veri setinde 5000 satır and 8 sütun vardır. <br>\n",
    "Veri setinde boş değer yoktur.<b>\n",
    "    \n"
   ]
  },
  {
   "cell_type": "markdown",
   "metadata": {
    "papermill": {
     "duration": 0.034213,
     "end_time": "2021-03-04T14:25:21.808000",
     "exception": false,
     "start_time": "2021-03-04T14:25:21.773787",
     "status": "completed"
    },
    "tags": []
   },
   "source": [
    "## Cinsiyet\n",
    "Tahmin ettirmek istediğim değer cinsiyettir. Her bir cinsiyetten kaçar tane örnek olduğunu görelim.\n"
   ]
  },
  {
   "cell_type": "code",
   "execution_count": 7,
   "metadata": {
    "execution": {
     "iopub.execute_input": "2021-03-04T14:25:21.886460Z",
     "iopub.status.busy": "2021-03-04T14:25:21.885802Z",
     "iopub.status.idle": "2021-03-04T14:25:21.889947Z",
     "shell.execute_reply": "2021-03-04T14:25:21.889345Z"
    },
    "papermill": {
     "duration": 0.046218,
     "end_time": "2021-03-04T14:25:21.890077",
     "exception": false,
     "start_time": "2021-03-04T14:25:21.843859",
     "status": "completed"
    },
    "tags": []
   },
   "outputs": [
    {
     "data": {
      "text/plain": [
       "Female    2501\n",
       "Male      2500\n",
       "Name: gender, dtype: int64"
      ]
     },
     "execution_count": 7,
     "metadata": {},
     "output_type": "execute_result"
    }
   ],
   "source": [
    "person.gender.value_counts()"
   ]
  },
  {
   "cell_type": "markdown",
   "metadata": {},
   "source": [
    "## Cinsiyete Göre Ortalama Bulma\n",
    "Tahmin yaparken özelliklerin ortalama değerleri baz alınacaktır. Bu kodda ortalama değerleri iki cinsiyet için de görebiliriz:"
   ]
  },
  {
   "cell_type": "code",
   "execution_count": 10,
   "metadata": {},
   "outputs": [
    {
     "data": {
      "text/html": [
       "<div>\n",
       "<style scoped>\n",
       "    .dataframe tbody tr th:only-of-type {\n",
       "        vertical-align: middle;\n",
       "    }\n",
       "\n",
       "    .dataframe tbody tr th {\n",
       "        vertical-align: top;\n",
       "    }\n",
       "\n",
       "    .dataframe thead th {\n",
       "        text-align: right;\n",
       "    }\n",
       "</style>\n",
       "<table border=\"1\" class=\"dataframe\">\n",
       "  <thead>\n",
       "    <tr style=\"text-align: right;\">\n",
       "      <th></th>\n",
       "      <th>long_hair</th>\n",
       "      <th>forehead_width_cm</th>\n",
       "      <th>forehead_height_cm</th>\n",
       "      <th>nose_wide</th>\n",
       "      <th>nose_long</th>\n",
       "      <th>lips_thin</th>\n",
       "      <th>distance_nose_to_lip_long</th>\n",
       "    </tr>\n",
       "    <tr>\n",
       "      <th>gender</th>\n",
       "      <th></th>\n",
       "      <th></th>\n",
       "      <th></th>\n",
       "      <th></th>\n",
       "      <th></th>\n",
       "      <th></th>\n",
       "      <th></th>\n",
       "    </tr>\n",
       "  </thead>\n",
       "  <tbody>\n",
       "    <tr>\n",
       "      <th>Female</th>\n",
       "      <td>0.873251</td>\n",
       "      <td>12.811675</td>\n",
       "      <td>5.796321</td>\n",
       "      <td>0.114754</td>\n",
       "      <td>0.135946</td>\n",
       "      <td>0.121551</td>\n",
       "      <td>0.121551</td>\n",
       "    </tr>\n",
       "    <tr>\n",
       "      <th>Male</th>\n",
       "      <td>0.866000</td>\n",
       "      <td>13.551440</td>\n",
       "      <td>6.096360</td>\n",
       "      <td>0.873200</td>\n",
       "      <td>0.880000</td>\n",
       "      <td>0.864800</td>\n",
       "      <td>0.876400</td>\n",
       "    </tr>\n",
       "  </tbody>\n",
       "</table>\n",
       "</div>"
      ],
      "text/plain": [
       "        long_hair  forehead_width_cm  forehead_height_cm  nose_wide  \\\n",
       "gender                                                                \n",
       "Female   0.873251          12.811675            5.796321   0.114754   \n",
       "Male     0.866000          13.551440            6.096360   0.873200   \n",
       "\n",
       "        nose_long  lips_thin  distance_nose_to_lip_long  \n",
       "gender                                                   \n",
       "Female   0.135946   0.121551                   0.121551  \n",
       "Male     0.880000   0.864800                   0.876400  "
      ]
     },
     "execution_count": 10,
     "metadata": {},
     "output_type": "execute_result"
    }
   ],
   "source": [
    "gender1=person.groupby(['gender']).mean()\n",
    "gender1"
   ]
  },
  {
   "cell_type": "markdown",
   "metadata": {},
   "source": [
    "## Görselleştirme"
   ]
  },
  {
   "cell_type": "code",
   "execution_count": 12,
   "metadata": {
    "execution": {
     "iopub.execute_input": "2021-03-04T14:25:22.205614Z",
     "iopub.status.busy": "2021-03-04T14:25:22.204739Z",
     "iopub.status.idle": "2021-03-04T14:25:22.486975Z",
     "shell.execute_reply": "2021-03-04T14:25:22.486215Z"
    },
    "papermill": {
     "duration": 0.32566,
     "end_time": "2021-03-04T14:25:22.487153",
     "exception": false,
     "start_time": "2021-03-04T14:25:22.161493",
     "status": "completed"
    },
    "scrolled": false,
    "tags": []
   },
   "outputs": [
    {
     "data": {
      "text/plain": [
       "<Figure size 1440x1440 with 0 Axes>"
      ]
     },
     "metadata": {},
     "output_type": "display_data"
    },
    {
     "data": {
      "image/png": "[encoded data removed]",
      "text/plain": [
       "<Figure size 720x432 with 1 Axes>"
      ]
     },
     "metadata": {},
     "output_type": "display_data"
    }
   ],
   "source": [
    "#Bar plot ile tablo olarak gösterelim:\n",
    "from matplotlib.ticker import FuncFormatter\n",
    "\n",
    "plt.figure(figsize=(20,20))\n",
    "gender2=gender1.plot(kind='bar',figsize=(10,6))\n",
    "\n",
    "for item in gender2.get_xticklabels():\n",
    "    item.set_rotation(0)\n",
    "    \n",
    "plt.ylim(0.0, 14.0)\n",
    "plt.legend(loc='center')\n",
    "plt.title('Cinsiyete göre ortalama değer')\n",
    "plt.show()"
   ]
  },
  {
   "cell_type": "markdown",
   "metadata": {
    "papermill": {
     "duration": 0.037682,
     "end_time": "2021-03-04T14:25:22.563423",
     "exception": false,
     "start_time": "2021-03-04T14:25:22.525741",
     "status": "completed"
    },
    "tags": []
   },
   "source": [
    "<B>Tüm özelliklerin (saç uzunluğu hariç) erkeklerde kadınlara göre daha yüksek değerler aldığını görebiliriz. Daha detaylı incelersek:"
   ]
  },
  {
   "cell_type": "markdown",
   "metadata": {
    "papermill": {
     "duration": 0.037853,
     "end_time": "2021-03-04T14:25:22.638920",
     "exception": false,
     "start_time": "2021-03-04T14:25:22.601067",
     "status": "completed"
    },
    "tags": []
   },
   "source": [
    "### Dudak Kalınlığının ve Dudak-Burun Mesafesinin Cinsiyete Göre Dağılımı  : "
   ]
  },
  {
   "cell_type": "code",
   "execution_count": 11,
   "metadata": {
    "execution": {
     "iopub.execute_input": "2021-03-04T14:25:22.724044Z",
     "iopub.status.busy": "2021-03-04T14:25:22.722994Z",
     "iopub.status.idle": "2021-03-04T14:25:23.178291Z",
     "shell.execute_reply": "2021-03-04T14:25:23.177791Z"
    },
    "papermill": {
     "duration": 0.502168,
     "end_time": "2021-03-04T14:25:23.178467",
     "exception": false,
     "start_time": "2021-03-04T14:25:22.676299",
     "status": "completed"
    },
    "scrolled": false,
    "tags": []
   },
   "outputs": [
    {
     "data": {
      "image/png": "[encoded data removed]",
      "text/plain": [
       "<Figure size 720x432 with 1 Axes>"
      ]
     },
     "metadata": {},
     "output_type": "display_data"
    },
    {
     "data": {
      "image/png": "[encoded data removed]",
      "text/plain": [
       "<Figure size 720x432 with 1 Axes>"
      ]
     },
     "metadata": {},
     "output_type": "display_data"
    },
    {
     "data": {
      "text/plain": [
       "lips_thin  gender\n",
       "0          Female    2197\n",
       "           Male       338\n",
       "1          Female     304\n",
       "           Male      2162\n",
       "dtype: int64"
      ]
     },
     "execution_count": 11,
     "metadata": {},
     "output_type": "execute_result"
    }
   ],
   "source": [
    "person.groupby(['lips_thin','gender']).size().unstack().plot(kind='bar',figsize=(10,6))\n",
    "plt.title('Cinsiyete Göre Dudak Kalınlığı')\n",
    "person.groupby(['distance_nose_to_lip_long','gender']).size().unstack().plot(kind='bar',figsize=(10,6))\n",
    "plt.title('Cinsiyete Göre Dudak ile Burun Arası Mesafe')\n",
    "plt.show()\n",
    "person.groupby(['lips_thin','gender']).size()\n"
   ]
  },
  {
   "cell_type": "code",
   "execution_count": 14,
   "metadata": {
    "execution": {
     "iopub.execute_input": "2021-03-04T14:25:23.263450Z",
     "iopub.status.busy": "2021-03-04T14:25:23.262750Z",
     "iopub.status.idle": "2021-03-04T14:25:23.271728Z",
     "shell.execute_reply": "2021-03-04T14:25:23.271018Z"
    },
    "papermill": {
     "duration": 0.053106,
     "end_time": "2021-03-04T14:25:23.271868",
     "exception": false,
     "start_time": "2021-03-04T14:25:23.218762",
     "status": "completed"
    },
    "scrolled": true,
    "tags": []
   },
   "outputs": [
    {
     "data": {
      "text/plain": [
       "distance_nose_to_lip_long  gender\n",
       "0                          Female    2197\n",
       "                           Male       309\n",
       "1                          Female     304\n",
       "                           Male      2191\n",
       "dtype: int64"
      ]
     },
     "execution_count": 14,
     "metadata": {},
     "output_type": "execute_result"
    }
   ],
   "source": [
    "person.groupby(['distance_nose_to_lip_long','gender']).size()"
   ]
  },
  {
   "cell_type": "markdown",
   "metadata": {
    "papermill": {
     "duration": 0.039611,
     "end_time": "2021-03-04T14:25:23.351419",
     "exception": false,
     "start_time": "2021-03-04T14:25:23.311808",
     "status": "completed"
    },
    "tags": []
   },
   "source": [
    "<b>Kadınların erkeklere göre daha geniş dudaklara ve daha kısa burun-dudak arası mesafeye sahip olduğunu görebiliriz."
   ]
  },
  {
   "cell_type": "markdown",
   "metadata": {
    "papermill": {
     "duration": 0.043325,
     "end_time": "2021-03-04T14:25:23.434631",
     "exception": false,
     "start_time": "2021-03-04T14:25:23.391306",
     "status": "completed"
    },
    "tags": []
   },
   "source": [
    "## Alın Genişliği ve Uzunluğunun Cinsiyete Göre Dağılımı:"
   ]
  },
  {
   "cell_type": "code",
   "execution_count": 15,
   "metadata": {
    "execution": {
     "iopub.execute_input": "2021-03-04T14:25:23.591802Z",
     "iopub.status.busy": "2021-03-04T14:25:23.573466Z",
     "iopub.status.idle": "2021-03-04T14:25:24.220967Z",
     "shell.execute_reply": "2021-03-04T14:25:24.221497Z"
    },
    "papermill": {
     "duration": 0.742851,
     "end_time": "2021-03-04T14:25:24.221664",
     "exception": false,
     "start_time": "2021-03-04T14:25:23.478813",
     "status": "completed"
    },
    "scrolled": false,
    "tags": []
   },
   "outputs": [
    {
     "data": {
      "text/plain": [
       "<seaborn.axisgrid.FacetGrid at 0x7f8224f457f0>"
      ]
     },
     "execution_count": 15,
     "metadata": {},
     "output_type": "execute_result"
    },
    {
     "data": {
      "image/png": "[encoded data removed]",
      "text/plain": [
       "<Figure size 720x360 with 2 Axes>"
      ]
     },
     "metadata": {},
     "output_type": "display_data"
    }
   ],
   "source": [
    "#Alın Genişliğinin Dağılımını Bar Plot ile Gösterelim.\n",
    "sns.displot(data=person, x=\"forehead_width_cm\", col=\"gender\",kde=True, color='b')"
   ]
  },
  {
   "cell_type": "code",
   "execution_count": 16,
   "metadata": {
    "execution": {
     "iopub.execute_input": "2021-03-04T14:25:24.307933Z",
     "iopub.status.busy": "2021-03-04T14:25:24.307273Z",
     "iopub.status.idle": "2021-03-04T14:25:25.023871Z",
     "shell.execute_reply": "2021-03-04T14:25:25.024348Z"
    },
    "papermill": {
     "duration": 0.76135,
     "end_time": "2021-03-04T14:25:25.024548",
     "exception": false,
     "start_time": "2021-03-04T14:25:24.263198",
     "status": "completed"
    },
    "scrolled": false,
    "tags": []
   },
   "outputs": [
    {
     "data": {
      "text/plain": [
       "<seaborn.axisgrid.FacetGrid at 0x7f8224d49a90>"
      ]
     },
     "execution_count": 16,
     "metadata": {},
     "output_type": "execute_result"
    },
    {
     "data": {
      "image/png": "[encoded data removed]",
      "text/plain": [
       "<Figure size 720x360 with 2 Axes>"
      ]
     },
     "metadata": {},
     "output_type": "display_data"
    }
   ],
   "source": [
    "#Alın Uzunluğunun Dağılımını Bar Plot ile Gösterelim.\n",
    "sns.displot(data=person, x=\"forehead_height_cm\", col=\"gender\",kde=True, color='r' )\n"
   ]
  },
  {
   "cell_type": "markdown",
   "metadata": {
    "papermill": {
     "duration": 0.042978,
     "end_time": "2021-03-04T14:25:25.110653",
     "exception": false,
     "start_time": "2021-03-04T14:25:25.067675",
     "status": "completed"
    },
    "tags": []
   },
   "source": [
    "* <B>Erkeklerin kadınlara göre daha geniş ve uzun alına sahip olduğunu görebiliriz."
   ]
  },
  {
   "cell_type": "markdown",
   "metadata": {
    "papermill": {
     "duration": 0.042497,
     "end_time": "2021-03-04T14:25:25.196069",
     "exception": false,
     "start_time": "2021-03-04T14:25:25.153572",
     "status": "completed"
    },
    "tags": []
   },
   "source": [
    "## Saç Uzunluğunun Cinsiyete Göre Dağılımı:"
   ]
  },
  {
   "cell_type": "code",
   "execution_count": 17,
   "metadata": {
    "execution": {
     "iopub.execute_input": "2021-03-04T14:25:25.289914Z",
     "iopub.status.busy": "2021-03-04T14:25:25.288896Z",
     "iopub.status.idle": "2021-03-04T14:25:25.468122Z",
     "shell.execute_reply": "2021-03-04T14:25:25.467588Z"
    },
    "papermill": {
     "duration": 0.229142,
     "end_time": "2021-03-04T14:25:25.468261",
     "exception": false,
     "start_time": "2021-03-04T14:25:25.239119",
     "status": "completed"
    },
    "tags": []
   },
   "outputs": [
    {
     "data": {
      "image/png": "[encoded data removed]",
      "text/plain": [
       "<Figure size 720x432 with 1 Axes>"
      ]
     },
     "metadata": {},
     "output_type": "display_data"
    },
    {
     "data": {
      "text/plain": [
       "long_hair  gender\n",
       "0          Female     317\n",
       "           Male       335\n",
       "1          Female    2184\n",
       "           Male      2165\n",
       "dtype: int64"
      ]
     },
     "execution_count": 17,
     "metadata": {},
     "output_type": "execute_result"
    }
   ],
   "source": [
    "person.groupby(['long_hair','gender']).size().unstack().plot(kind='bar',figsize=(10,6))\n",
    "\n",
    "plt.title('Cinsiyete Göre Saç Uzunluğu')\n",
    "plt.show()\n",
    "person.groupby(['long_hair','gender']).size()"
   ]
  },
  {
   "cell_type": "markdown",
   "metadata": {
    "papermill": {
     "duration": 0.05531,
     "end_time": "2021-03-04T14:25:25.573470",
     "exception": false,
     "start_time": "2021-03-04T14:25:25.518160",
     "status": "completed"
    },
    "tags": []
   },
   "source": [
    "* <B> Kadınlar ile erkekler arasında saç uzunluğu dağılımının neredeyse aynı olduğunu görebiliriz."
   ]
  },
  {
   "cell_type": "markdown",
   "metadata": {
    "papermill": {
     "duration": 0.046929,
     "end_time": "2021-03-04T14:25:25.669562",
     "exception": false,
     "start_time": "2021-03-04T14:25:25.622633",
     "status": "completed"
    },
    "tags": []
   },
   "source": [
    "## Burun Genişliği ve Uzunluğunun Cinsiyete Göre Dağılımı:"
   ]
  },
  {
   "cell_type": "code",
   "execution_count": 24,
   "metadata": {},
   "outputs": [
    {
     "data": {
      "image/png": "[encoded data removed]",
      "text/plain": [
       "<Figure size 720x432 with 1 Axes>"
      ]
     },
     "metadata": {},
     "output_type": "display_data"
    },
    {
     "data": {
      "text/plain": [
       "nose_wide  gender\n",
       "0          Female    2214\n",
       "           Male       317\n",
       "1          Female     287\n",
       "           Male      2183\n",
       "dtype: int64"
      ]
     },
     "execution_count": 24,
     "metadata": {},
     "output_type": "execute_result"
    }
   ],
   "source": [
    "person.groupby(['nose_wide','gender']).size().unstack().plot(kind='bar',figsize=(10,6))\n",
    "plt.title('Burun Genişliğinin Cinsiyete Göre Dağılımı')\n",
    "plt.show()\n",
    "person.groupby(['nose_wide','gender']).size()"
   ]
  },
  {
   "cell_type": "code",
   "execution_count": 23,
   "metadata": {
    "execution": {
     "iopub.execute_input": "2021-03-04T14:25:26.225793Z",
     "iopub.status.busy": "2021-03-04T14:25:26.224822Z",
     "iopub.status.idle": "2021-03-04T14:25:26.232216Z",
     "shell.execute_reply": "2021-03-04T14:25:26.231616Z"
    },
    "papermill": {
     "duration": 0.060136,
     "end_time": "2021-03-04T14:25:26.232348",
     "exception": false,
     "start_time": "2021-03-04T14:25:26.172212",
     "status": "completed"
    },
    "tags": []
   },
   "outputs": [
    {
     "data": {
      "image/png": "[encoded data removed]",
      "text/plain": [
       "<Figure size 720x432 with 1 Axes>"
      ]
     },
     "metadata": {},
     "output_type": "display_data"
    },
    {
     "data": {
      "text/plain": [
       "nose_long  gender\n",
       "0          Female    2161\n",
       "           Male       300\n",
       "1          Female     340\n",
       "           Male      2200\n",
       "dtype: int64"
      ]
     },
     "execution_count": 23,
     "metadata": {},
     "output_type": "execute_result"
    }
   ],
   "source": [
    "person.groupby(['nose_long','gender']).size().unstack().plot(kind='bar',figsize=(10,6))\n",
    "plt.title('Burun Uzunluğunun Cinsiyete Göre Dağılımı')\n",
    "plt.show()\n",
    "person.groupby(['nose_long','gender']).size()"
   ]
  },
  {
   "cell_type": "markdown",
   "metadata": {
    "papermill": {
     "duration": 0.046293,
     "end_time": "2021-03-04T14:25:26.325523",
     "exception": false,
     "start_time": "2021-03-04T14:25:26.279230",
     "status": "completed"
    },
    "tags": []
   },
   "source": [
    "* <B> Kadınların erkeklere göre daha ince ve kısa buruna sahip olduğunu görebiliriz."
   ]
  },
  {
   "cell_type": "markdown",
   "metadata": {},
   "source": [
    "### Veri setinde 'gender' özelliği string türündedir. Float değerine de ihtiyacımız olacağından 'gender_code' sütunu ekledim. Erkekler için 0, kadınlar için 1 değerini verdim. "
   ]
  },
  {
   "cell_type": "code",
   "execution_count": 27,
   "metadata": {},
   "outputs": [
    {
     "data": {
      "text/html": [
       "<div>\n",
       "<style scoped>\n",
       "    .dataframe tbody tr th:only-of-type {\n",
       "        vertical-align: middle;\n",
       "    }\n",
       "\n",
       "    .dataframe tbody tr th {\n",
       "        vertical-align: top;\n",
       "    }\n",
       "\n",
       "    .dataframe thead th {\n",
       "        text-align: right;\n",
       "    }\n",
       "</style>\n",
       "<table border=\"1\" class=\"dataframe\">\n",
       "  <thead>\n",
       "    <tr style=\"text-align: right;\">\n",
       "      <th></th>\n",
       "      <th>long_hair</th>\n",
       "      <th>forehead_width_cm</th>\n",
       "      <th>forehead_height_cm</th>\n",
       "      <th>nose_wide</th>\n",
       "      <th>nose_long</th>\n",
       "      <th>lips_thin</th>\n",
       "      <th>distance_nose_to_lip_long</th>\n",
       "      <th>gender</th>\n",
       "      <th>gender_code</th>\n",
       "    </tr>\n",
       "  </thead>\n",
       "  <tbody>\n",
       "    <tr>\n",
       "      <th>0</th>\n",
       "      <td>1</td>\n",
       "      <td>11.8</td>\n",
       "      <td>6.1</td>\n",
       "      <td>1</td>\n",
       "      <td>0</td>\n",
       "      <td>1</td>\n",
       "      <td>1</td>\n",
       "      <td>Male</td>\n",
       "      <td>0</td>\n",
       "    </tr>\n",
       "    <tr>\n",
       "      <th>1</th>\n",
       "      <td>0</td>\n",
       "      <td>14.0</td>\n",
       "      <td>5.4</td>\n",
       "      <td>0</td>\n",
       "      <td>0</td>\n",
       "      <td>1</td>\n",
       "      <td>0</td>\n",
       "      <td>Female</td>\n",
       "      <td>1</td>\n",
       "    </tr>\n",
       "    <tr>\n",
       "      <th>2</th>\n",
       "      <td>0</td>\n",
       "      <td>11.8</td>\n",
       "      <td>6.3</td>\n",
       "      <td>1</td>\n",
       "      <td>1</td>\n",
       "      <td>1</td>\n",
       "      <td>1</td>\n",
       "      <td>Male</td>\n",
       "      <td>0</td>\n",
       "    </tr>\n",
       "    <tr>\n",
       "      <th>3</th>\n",
       "      <td>0</td>\n",
       "      <td>14.4</td>\n",
       "      <td>6.1</td>\n",
       "      <td>0</td>\n",
       "      <td>1</td>\n",
       "      <td>1</td>\n",
       "      <td>1</td>\n",
       "      <td>Male</td>\n",
       "      <td>0</td>\n",
       "    </tr>\n",
       "    <tr>\n",
       "      <th>4</th>\n",
       "      <td>1</td>\n",
       "      <td>13.5</td>\n",
       "      <td>5.9</td>\n",
       "      <td>0</td>\n",
       "      <td>0</td>\n",
       "      <td>0</td>\n",
       "      <td>0</td>\n",
       "      <td>Female</td>\n",
       "      <td>1</td>\n",
       "    </tr>\n",
       "  </tbody>\n",
       "</table>\n",
       "</div>"
      ],
      "text/plain": [
       "   long_hair  forehead_width_cm  forehead_height_cm  nose_wide  nose_long  \\\n",
       "0          1               11.8                 6.1          1          0   \n",
       "1          0               14.0                 5.4          0          0   \n",
       "2          0               11.8                 6.3          1          1   \n",
       "3          0               14.4                 6.1          0          1   \n",
       "4          1               13.5                 5.9          0          0   \n",
       "\n",
       "   lips_thin  distance_nose_to_lip_long  gender  gender_code  \n",
       "0          1                          1    Male            0  \n",
       "1          1                          0  Female            1  \n",
       "2          1                          1    Male            0  \n",
       "3          1                          1    Male            0  \n",
       "4          0                          0  Female            1  "
      ]
     },
     "execution_count": 27,
     "metadata": {},
     "output_type": "execute_result"
    }
   ],
   "source": [
    "person['gender_code']=pd.factorize(person.gender)[0]\n",
    "person.head()"
   ]
  },
  {
   "cell_type": "markdown",
   "metadata": {
    "papermill": {
     "duration": 0.051244,
     "end_time": "2021-03-04T14:25:27.689284",
     "exception": false,
     "start_time": "2021-03-04T14:25:27.638040",
     "status": "completed"
    },
    "tags": []
   },
   "source": [
    "## Train Test Split (Eğitim/Test Seti Ayırma)\n"
   ]
  },
  {
   "cell_type": "code",
   "execution_count": 28,
   "metadata": {
    "execution": {
     "iopub.execute_input": "2021-03-04T14:25:27.798771Z",
     "iopub.status.busy": "2021-03-04T14:25:27.797984Z",
     "iopub.status.idle": "2021-03-04T14:25:28.041102Z",
     "shell.execute_reply": "2021-03-04T14:25:28.041944Z"
    },
    "papermill": {
     "duration": 0.302336,
     "end_time": "2021-03-04T14:25:28.042187",
     "exception": false,
     "start_time": "2021-03-04T14:25:27.739851",
     "status": "completed"
    },
    "tags": []
   },
   "outputs": [],
   "source": [
    "y = person.gender_code.values\n",
    "\n",
    "x = person[[\"long_hair\",\"forehead_width_cm\",\"forehead_height_cm\",\n",
    "          \"nose_wide\",\"nose_long\",\"lips_thin\",\"distance_nose_to_lip_long\"]].values"
   ]
  },
  {
   "cell_type": "code",
   "execution_count": 29,
   "metadata": {},
   "outputs": [
    {
     "name": "stdout",
     "output_type": "stream",
     "text": [
      "x_train :  [[ 1.   1.   0.  ...  1.   1.   1. ]\n",
      " [15.4 12.2 11.5 ... 12.  12.8 11.4]\n",
      " [ 6.6  5.2  5.8 ...  5.9  5.4  5.5]\n",
      " ...\n",
      " [ 1.   0.   0.  ...  0.   0.   0. ]\n",
      " [ 1.   0.   0.  ...  0.   0.   0. ]\n",
      " [ 1.   0.   0.  ...  0.   0.   0. ]]\n",
      "x_test :  [[ 1.   1.   0.  ...  1.   1.   1. ]\n",
      " [13.2 13.7 12.9 ... 14.3 13.9 13. ]\n",
      " [ 5.7  6.   5.3 ...  5.7  6.3  5.4]\n",
      " ...\n",
      " [ 1.   0.   0.  ...  0.   1.   1. ]\n",
      " [ 1.   0.   0.  ...  0.   1.   0. ]\n",
      " [ 1.   0.   1.  ...  0.   1.   1. ]]\n",
      "y_train :  [0 1 1 ... 1 1 1]\n",
      "y_test :  [0 1 1 ... 1 0 1]\n"
     ]
    }
   ],
   "source": [
    "from sklearn.model_selection import train_test_split\n",
    "#veriyi eğitim ve test seti olarak ayırıyoruz:\n",
    "\n",
    "x_train, x_test, y_train, y_test = train_test_split(x, y, test_size = 0.2, random_state = 42)\n",
    "\n",
    "x_train = x_train.T\n",
    "x_test = x_test.T\n",
    "y_train = y_train.T\n",
    "y_test = y_test.T\n",
    "\n",
    "print(\"x_train : \",x_train)\n",
    "print(\"x_test : \",x_test)\n",
    "print(\"y_train : \",y_train)\n",
    "print(\"y_test : \",y_test)"
   ]
  },
  {
   "cell_type": "markdown",
   "metadata": {},
   "source": [
    "## Logistic Regression"
   ]
  },
  {
   "cell_type": "code",
   "execution_count": 30,
   "metadata": {},
   "outputs": [
    {
     "name": "stdout",
     "output_type": "stream",
     "text": [
      "Test Accuracy :  0.9675294117647059\n",
      "Train Accuracy :  0.9707057256990679\n"
     ]
    }
   ],
   "source": [
    "from sklearn.model_selection import train_test_split\n",
    "x_test, x_train, y_test, y_train = train_test_split(x, y, test_size = 0.15, random_state = 42)\n",
    "from sklearn import linear_model\n",
    "\n",
    "logreg = linear_model.LogisticRegression(random_state = 42, max_iter = 150)\n",
    "\n",
    "print(\"Test Accuracy : \", (logreg.fit(x_train, y_train).score(x_test, y_test)))\n",
    "print(\"Train Accuracy : \", (logreg.fit(x_train, y_train).score(x_train, y_train)))\n"
   ]
  },
  {
   "cell_type": "markdown",
   "metadata": {},
   "source": [
    "## KNN Sınıflandırması"
   ]
  },
  {
   "cell_type": "code",
   "execution_count": 31,
   "metadata": {},
   "outputs": [
    {
     "data": {
      "image/png": "[encoded data removed]",
      "text/plain": [
       "<Figure size 360x360 with 2 Axes>"
      ]
     },
     "metadata": {},
     "output_type": "display_data"
    },
    {
     "data": {
      "image/png": "[encoded data removed]",
      "text/plain": [
       "<Figure size 432x288 with 1 Axes>"
      ]
     },
     "metadata": {},
     "output_type": "display_data"
    },
    {
     "name": "stdout",
     "output_type": "stream",
     "text": [
      "Accuracy:  0.968031968031968\n",
      "Confusion Matrix :  [[476  23]\n",
      " [  9 493]]\n",
      "\n",
      "              precision    recall  f1-score   support\n",
      "\n",
      "           0       0.98      0.95      0.97       499\n",
      "           1       0.96      0.98      0.97       502\n",
      "\n",
      "    accuracy                           0.97      1001\n",
      "   macro avg       0.97      0.97      0.97      1001\n",
      "weighted avg       0.97      0.97      0.97      1001\n",
      "\n",
      "KNN için Model Performansının Değerlendirilmesi\n",
      "MAE: 0.03196803196803197\n",
      "MSE: 0.03196803196803197\n",
      "RMSE: 0.17879606250706967\n",
      "KAPPA SCORE: 0.9360580013334557\n"
     ]
    }
   ],
   "source": [
    "from sklearn.model_selection import train_test_split\n",
    "from sklearn.neighbors import KNeighborsClassifier\n",
    "\n",
    "x_train, x_test, y_train, y_test = train_test_split(x, y, test_size = 0.2, random_state = 42)\n",
    "knn = KNeighborsClassifier(n_neighbors = 9)\n",
    "knn.fit(x_train,y_train)\n",
    "\n",
    "#Görselleştirme yapılması \n",
    "from sklearn.metrics import confusion_matrix\n",
    "import seaborn as sns\n",
    "f, ax = plt.subplots(figsize = (5,5))\n",
    "cm = confusion_matrix(y_test, knn.predict(x_test))\n",
    "sns.heatmap(cm,annot = True, linewidth = 0.5, linecolor = \"red\", fmt = \".0f\", ax = ax)\n",
    "plt.show()\n",
    "\n",
    "score_list = []\n",
    "for each in range(1,15):\n",
    "    knn2 = KNeighborsClassifier(n_neighbors = each)\n",
    "    knn2.fit(x_train, y_train)\n",
    "    score_list.append(knn2.score(x_test, y_test))\n",
    "\n",
    "plt.plot(range(1,15), score_list)\n",
    "plt.xlabel(\"k değerleri\")\n",
    "plt.ylabel(\"Accuracy\")\n",
    "plt.show()\n",
    "\n",
    "y_pred = knn.predict(x_test)\n",
    "\n",
    "from sklearn import metrics\n",
    "from sklearn.metrics import classification_report, confusion_matrix\n",
    "\n",
    "print(\"Accuracy: \", knn.score(x_test, y_test))\n",
    "print(\"Confusion Matrix : \", cm)\n",
    "print()\n",
    "print(classification_report(y_test, y_pred))\n",
    "\n",
    "print(\"KNN için Model Performansının Değerlendirilmesi\")\n",
    "print('MAE:', metrics.mean_absolute_error(y_test, y_pred))\n",
    "print('MSE:', metrics.mean_squared_error(y_test, y_pred))\n",
    "print('RMSE:', np.sqrt(metrics.mean_squared_error(y_test, y_pred)))\n",
    "\n",
    "#kappa score hesabı\n",
    "from sklearn.metrics import cohen_kappa_score\n",
    "kappa_score =cohen_kappa_score(y_test,y_pred)\n",
    "print(\"KAPPA SCORE:\" ,kappa_score)\n"
   ]
  },
  {
   "cell_type": "code",
   "execution_count": null,
   "metadata": {},
   "outputs": [],
   "source": []
  },
  {
   "cell_type": "markdown",
   "metadata": {},
   "source": [
    "## SVM (Support Vector Machine)"
   ]
  },
  {
   "cell_type": "code",
   "execution_count": 32,
   "metadata": {},
   "outputs": [
    {
     "data": {
      "image/png": "[encoded data removed]",
      "text/plain": [
       "<Figure size 360x360 with 2 Axes>"
      ]
     },
     "metadata": {},
     "output_type": "display_data"
    },
    {
     "name": "stdout",
     "output_type": "stream",
     "text": [
      "Accuracy:  0.9707057256990679\n",
      "Confusion Matrix :  [[355  14]\n",
      " [  8 374]]\n",
      "\n",
      "              precision    recall  f1-score   support\n",
      "\n",
      "           0       0.98      0.96      0.97       369\n",
      "           1       0.96      0.98      0.97       382\n",
      "\n",
      "    accuracy                           0.97       751\n",
      "   macro avg       0.97      0.97      0.97       751\n",
      "weighted avg       0.97      0.97      0.97       751\n",
      "\n",
      "SVM için Model Performansının Değerlendirilmesi\n",
      "MAE: 0.02929427430093209\n",
      "MSE: 0.02929427430093209\n",
      "RMSE: 0.17115570192351784\n",
      "KAPPA SCORE: 0.9413776708605653\n"
     ]
    }
   ],
   "source": [
    "from sklearn.model_selection import train_test_split\n",
    "x_train, x_test, y_train, y_test = train_test_split(x, y, test_size = 0.15, random_state = 1)\n",
    "\n",
    "#Görselleştirme yapılması \n",
    "import seaborn as sns\n",
    "f, ax = plt.subplots(figsize = (5,5))\n",
    "sns.heatmap(cm, annot = True, linewidth = 0.5, linecolor = \"red\", fmt = \".0f\", ax = ax)\n",
    "plt.show()\n",
    "\n",
    "from sklearn.svm import SVC\n",
    "svm = SVC(random_state = 1)\n",
    "svm.fit(x_train, y_train)\n",
    "\n",
    "\n",
    "from sklearn.metrics import classification_report,confusion_matrix\n",
    "cm = confusion_matrix(y_test, svm.predict(x_test))\n",
    "print(\"Accuracy: \", svm.score(x_test, y_test))\n",
    "print(\"Confusion Matrix : \", cm)\n",
    "\n",
    "y_pred = svm.predict(x_test)\n",
    "print()\n",
    "print(classification_report(y_test, y_pred))\n",
    "\n",
    "print(\"SVM için Model Performansının Değerlendirilmesi\")\n",
    "print('MAE:', metrics.mean_absolute_error(y_test, y_pred))\n",
    "print('MSE:', metrics.mean_squared_error(y_test, y_pred))\n",
    "print('RMSE:', np.sqrt(metrics.mean_squared_error(y_test, y_pred)))\n",
    "\n",
    "#kappa score hesabı\n",
    "from sklearn.metrics import cohen_kappa_score\n",
    "kappa_score =cohen_kappa_score(y_test,y_pred)\n",
    "print(\"KAPPA SCORE:\" ,kappa_score)\n"
   ]
  },
  {
   "cell_type": "markdown",
   "metadata": {},
   "source": [
    "## Naive Bayes"
   ]
  },
  {
   "cell_type": "code",
   "execution_count": 33,
   "metadata": {},
   "outputs": [
    {
     "data": {
      "image/png": "[encoded data removed]",
      "text/plain": [
       "<Figure size 360x360 with 2 Axes>"
      ]
     },
     "metadata": {},
     "output_type": "display_data"
    },
    {
     "name": "stdout",
     "output_type": "stream",
     "text": [
      "Accuracy:  0.9713524317121919\n",
      "Confusion Matrix :  [[735  21]\n",
      " [ 22 723]]\n",
      "\n",
      "              precision    recall  f1-score   support\n",
      "\n",
      "           0       0.97      0.97      0.97       756\n",
      "           1       0.97      0.97      0.97       745\n",
      "\n",
      "    accuracy                           0.97      1501\n",
      "   macro avg       0.97      0.97      0.97      1501\n",
      "weighted avg       0.97      0.97      0.97      1501\n",
      "\n",
      "Naive Bayes için Model Performansının Değerlendirilmesi\n",
      "MAE: 0.028647568287808126\n",
      "MSE: 0.028647568287808126\n",
      "RMSE: 0.1692559254141731\n",
      "KAPPA SCORE: 0.9427012266196981\n"
     ]
    }
   ],
   "source": [
    "from sklearn.model_selection import train_test_split\n",
    "x_train, x_test, y_train, y_test = train_test_split(x, y, test_size = 0.3, random_state = 1)\n",
    "\n",
    "from sklearn.naive_bayes import GaussianNB\n",
    "nb = GaussianNB()\n",
    "nb.fit(x_train, y_train)\n",
    "\n",
    "from sklearn.metrics import confusion_matrix\n",
    "cm = confusion_matrix(y_test, nb.predict(x_test))\n",
    "\n",
    "#Görselleştirme yapılması \n",
    "import seaborn as sns\n",
    "f, ax = plt.subplots(figsize = (5,5))\n",
    "sns.heatmap(cm, annot = True, linewidth = 0.5, linecolor = \"red\", fmt = \".0f\", ax = ax)\n",
    "plt.show()\n",
    "\n",
    "print(\"Accuracy: \", nb.score(x_test, y_test))\n",
    "print(\"Confusion Matrix : \", cm)\n",
    "\n",
    "y_pred = nb.predict(x_test)\n",
    "\n",
    "from sklearn.metrics import classification_report, confusion_matrix\n",
    "print()\n",
    "print(classification_report(y_test, y_pred))\n",
    "\n",
    "print(\"Naive Bayes için Model Performansının Değerlendirilmesi\")\n",
    "print('MAE:', metrics.mean_absolute_error(y_test, y_pred))\n",
    "print('MSE:', metrics.mean_squared_error(y_test, y_pred))\n",
    "print('RMSE:', np.sqrt(metrics.mean_squared_error(y_test, y_pred)))\n",
    "\n",
    "#kappa score hesabı\n",
    "from sklearn.metrics import cohen_kappa_score\n",
    "kappa_score =cohen_kappa_score(y_test,y_pred)\n",
    "print(\"KAPPA SCORE:\" ,kappa_score)\n",
    "\n"
   ]
  },
  {
   "cell_type": "markdown",
   "metadata": {},
   "source": [
    "## Decision Tree (Karar Ağacı)"
   ]
  },
  {
   "cell_type": "code",
   "execution_count": 34,
   "metadata": {},
   "outputs": [
    {
     "data": {
      "image/png": "[encoded data removed]",
      "text/plain": [
       "<Figure size 360x360 with 2 Axes>"
      ]
     },
     "metadata": {},
     "output_type": "display_data"
    },
    {
     "name": "stdout",
     "output_type": "stream",
     "text": [
      "Accuracy:  0.9693741677762983\n",
      "Confusion Matrix :  [[358  11]\n",
      " [ 12 370]]\n",
      "\n",
      "              precision    recall  f1-score   support\n",
      "\n",
      "           0       0.97      0.97      0.97       369\n",
      "           1       0.97      0.97      0.97       382\n",
      "\n",
      "    accuracy                           0.97       751\n",
      "   macro avg       0.97      0.97      0.97       751\n",
      "weighted avg       0.97      0.97      0.97       751\n",
      "\n",
      "Desicion Tree için Model Performansının Değerlendirilmesi\n",
      "MAE: 0.03062583222370173\n",
      "MSE: 0.03062583222370173\n",
      "RMSE: 0.1750023777658513\n",
      "KAPPA SCORE: 0.9387328015209503\n"
     ]
    }
   ],
   "source": [
    "from sklearn.model_selection import train_test_split\n",
    "x_train, x_test, y_train, y_test = train_test_split(x, y, test_size = 0.15, random_state = 1)\n",
    "\n",
    "from sklearn.tree import DecisionTreeClassifier\n",
    "dt = DecisionTreeClassifier()\n",
    "dt.fit(x_train, y_train)\n",
    "\n",
    "#Görselleştirme yapılması \n",
    "import seaborn as sns\n",
    "f ,ax = plt.subplots(figsize = (5,5))\n",
    "sns.heatmap(cm, annot = True, linewidth = 0.5, linecolor = \"red\", fmt = \".0f\", ax = ax)\n",
    "plt.show()\n",
    "\n",
    "from sklearn.metrics import confusion_matrix\n",
    "cm = confusion_matrix(y_test, dt.predict(x_test))\n",
    "print(\"Accuracy: \", dt.score(x_test, y_test))\n",
    "print(\"Confusion Matrix : \", cm)\n",
    "\n",
    "y_pred = dt.predict(x_test)\n",
    "\n",
    "from sklearn.metrics import classification_report, confusion_matrix\n",
    "print()\n",
    "print(classification_report(y_test, y_pred))\n",
    "\n",
    "print(\"Desicion Tree için Model Performansının Değerlendirilmesi\")\n",
    "print('MAE:', metrics.mean_absolute_error(y_test, y_pred))\n",
    "print('MSE:', metrics.mean_squared_error(y_test, y_pred))\n",
    "print('RMSE:', np.sqrt(metrics.mean_squared_error(y_test, y_pred)))\n",
    "\n",
    "#kappa score hesabı\n",
    "from sklearn.metrics import cohen_kappa_score\n",
    "kappa_score =cohen_kappa_score(y_test,y_pred)\n",
    "print(\"KAPPA SCORE:\" ,kappa_score)\n"
   ]
  },
  {
   "cell_type": "markdown",
   "metadata": {},
   "source": [
    "## Random Forest Classification"
   ]
  },
  {
   "cell_type": "code",
   "execution_count": 35,
   "metadata": {},
   "outputs": [
    {
     "data": {
      "image/png": "[encoded data removed]",
      "text/plain": [
       "<Figure size 360x360 with 2 Axes>"
      ]
     },
     "metadata": {},
     "output_type": "display_data"
    },
    {
     "name": "stdout",
     "output_type": "stream",
     "text": [
      "Accuracy:  0.966711051930759\n",
      "Confusion Matrix :  [[349  13]\n",
      " [ 12 377]]\n",
      "\n",
      "              precision    recall  f1-score   support\n",
      "\n",
      "           0       0.97      0.96      0.97       362\n",
      "           1       0.97      0.97      0.97       389\n",
      "\n",
      "    accuracy                           0.97       751\n",
      "   macro avg       0.97      0.97      0.97       751\n",
      "weighted avg       0.97      0.97      0.97       751\n",
      "\n",
      "Random Forest için Model Performansının Değerlendirilmesi\n",
      "MAE: 0.033288948069241014\n",
      "MSE: 0.033288948069241014\n",
      "RMSE: 0.18245259129220667\n",
      "KAPPA SCORE: 0.9333295455756031\n"
     ]
    }
   ],
   "source": [
    "from sklearn.model_selection import train_test_split\n",
    "x_train, x_test, y_train, y_test = train_test_split(x, y, test_size = 0.15, random_state = 42)\n",
    "\n",
    "from sklearn.ensemble import RandomForestClassifier\n",
    "rf = RandomForestClassifier(n_estimators = 100, random_state = 1)\n",
    "rf.fit(x_train, y_train)\n",
    "\n",
    "#Görselleştirme yapılması \n",
    "import seaborn as sns\n",
    "f, ax = plt.subplots(figsize = (5,5))\n",
    "sns.heatmap(cm, annot = True, linewidth = 0.5, linecolor = \"red\", fmt = \".0f\", ax = ax)\n",
    "plt.show()\n",
    "\n",
    "\n",
    "from sklearn.metrics import confusion_matrix\n",
    "cm = confusion_matrix(y_test, rf.predict(x_test))\n",
    "print(\"Accuracy: \", rf.score(x_test, y_test))\n",
    "print(\"Confusion Matrix : \", cm)\n",
    "\n",
    "\n",
    "y_pred = rf.predict(x_test)\n",
    "\n",
    "from sklearn.metrics import classification_report, confusion_matrix\n",
    "print()\n",
    "print(classification_report(y_test, y_pred))\n",
    "\n",
    "print(\"Random Forest için Model Performansının Değerlendirilmesi\")\n",
    "print('MAE:', metrics.mean_absolute_error(y_test, y_pred))\n",
    "print('MSE:', metrics.mean_squared_error(y_test, y_pred))\n",
    "print('RMSE:', np.sqrt(metrics.mean_squared_error(y_test, y_pred)))\n",
    "\n",
    "#kappa score hesabı\n",
    "from sklearn.metrics import cohen_kappa_score\n",
    "kappa_score =cohen_kappa_score(y_test,y_pred)\n",
    "print(\"KAPPA SCORE:\" ,kappa_score)"
   ]
  },
  {
   "cell_type": "markdown",
   "metadata": {},
   "source": [
    "## Accuracy Değerlerinin Karşılaştırılması"
   ]
  },
  {
   "cell_type": "markdown",
   "metadata": {},
   "source": [
    "<b> Logistic Regression için Test Accuracy :</b> 0.9675294117647059 <br>\n",
    "<b>Train Accuracy : </b>0.9707057256990679<br>\n",
    "<b>KNN için Accuracy :</b> 0.968031968031968 <br>\n",
    "<b>Support Vector Machine (SVM) için Accuracy :</b> 0.9680426098535286 <br>\n",
    "<b>Naive Bayes için Accuracy :</b>0.9713524317121919<br>\n",
    "<b>Decision Tree (Karar Ağacı) için Accuracy :</b>0.9693741677762983<br>\n",
    "<b>Random Forest Classification için Accuracy :</b>0.966711051930759<br>\n",
    "    \n",
    "En yüksek accuracy'nin Naive Bayes algoritması ile alındığı görülür. Naive Bayes kullanarak tahmin yaptırmaya çalışalım : \n"
   ]
  },
  {
   "cell_type": "markdown",
   "metadata": {},
   "source": [
    "## Naive Bayes Algoritması ile Tahmin Ettirme \n",
    "\n",
    "### Değerleri hatırlayalım:\n",
    "\"long_hair\",\"forehead_width_cm\",\"forehead_height_cm\",\n",
    "\"nose_wide\",\"nose_long\",\"lips_thin\",\"distance_nose_to_lip_long\"\n"
   ]
  },
  {
   "cell_type": "code",
   "execution_count": 35,
   "metadata": {},
   "outputs": [],
   "source": [
    "x_predict = [[0,14,5.4,1,1,1,1]]  #tahmin edilmesini istediğim değerleri girdim.\n",
    "y_predict = nb.predict(x_predict)"
   ]
  },
  {
   "cell_type": "code",
   "execution_count": 36,
   "metadata": {},
   "outputs": [
    {
     "data": {
      "text/plain": [
       "0"
      ]
     },
     "execution_count": 36,
     "metadata": {},
     "output_type": "execute_result"
    }
   ],
   "source": [
    "#Cinsiyet tahmini(male=0, female=1):\n",
    "y_predict[0] "
   ]
  },
  {
   "cell_type": "code",
   "execution_count": 37,
   "metadata": {},
   "outputs": [
    {
     "name": "stdout",
     "output_type": "stream",
     "text": [
      "male\n"
     ]
    }
   ],
   "source": [
    "#Cinsiyet tahmini:\n",
    "if y_predict[0]==0:\n",
    "    print(\"male\")\n",
    "elif y_predict[0]==1:\n",
    "    print(\"female\")\n",
    "    "
   ]
  }
 ],
 "metadata": {
  "kernelspec": {
   "display_name": "Python 3",
   "language": "python",
   "name": "python3"
  },
  "language_info": {
   "codemirror_mode": {
    "name": "ipython",
    "version": 3
   },
   "file_extension": ".py",
   "mimetype": "text/x-python",
   "name": "python",
   "nbconvert_exporter": "python",
   "pygments_lexer": "ipython3",
   "version": "3.8.5"
  },
  "papermill": {
   "default_parameters": {},
   "duration": 48.326927,
   "end_time": "2021-03-04T14:26:03.149015",
   "environment_variables": {},
   "exception": null,
   "input_path": "__notebook__.ipynb",
   "output_path": "__notebook__.ipynb",
   "parameters": {},
   "start_time": "2021-03-04T14:25:14.822088",
   "version": "2.2.2"
  }
 },
 "nbformat": 4,
 "nbformat_minor": 4
}
